{
  "nbformat": 4,
  "nbformat_minor": 0,
  "metadata": {
    "colab": {
      "name": "Untitled2.ipynb",
      "provenance": [],
      "collapsed_sections": []
    },
    "kernelspec": {
      "name": "python3",
      "display_name": "Python 3"
    },
    "language_info": {
      "name": "python"
    },
    "accelerator": "GPU"
  },
  "cells": [
    {
      "cell_type": "code",
      "execution_count": 2,
      "metadata": {
        "colab": {
          "base_uri": "https://localhost:8080/"
        },
        "id": "7T5S2zuF6au4",
        "outputId": "8898a416-ada1-4a60-f931-75e8ba938808"
      },
      "outputs": [
        {
          "output_type": "stream",
          "name": "stdout",
          "text": [
            "Mounted at /content/gdrive\n",
            "gdrive\tsample_data\n"
          ]
        }
      ],
      "source": [
        "from google.colab import drive\n",
        "drive.mount('/content/gdrive')\n",
        "!ls"
      ]
    },
    {
      "cell_type": "code",
      "source": [
        "cd gdrive/MyDrive/alph_stable/"
      ],
      "metadata": {
        "colab": {
          "base_uri": "https://localhost:8080/"
        },
        "id": "8-KEomL5aGTk",
        "outputId": "4dcd2c73-980f-4332-f538-ccbf3241d8cf"
      },
      "execution_count": 3,
      "outputs": [
        {
          "output_type": "stream",
          "name": "stdout",
          "text": [
            "/content/gdrive/MyDrive/alph_stable\n"
          ]
        }
      ]
    },
    {
      "cell_type": "markdown",
      "source": [
        "Imports"
      ],
      "metadata": {
        "id": "nq3lnyYU8pF8"
      }
    },
    {
      "cell_type": "code",
      "source": [
        "import numpy as np\n",
        "import os\n",
        "import librosa\n",
        "import soundfile as sf\n",
        "import pickle as pkl\n",
        "\n",
        "from jd_alpha_SpatialNMF import Alpha_MNMF\n",
        "\n",
        "import argparse\n",
        "\n",
        "import glob as glob"
      ],
      "metadata": {
        "id": "ct4lTn8Y8ZW0"
      },
      "execution_count": 4,
      "outputs": []
    },
    {
      "cell_type": "code",
      "source": [
        "nfft = 1024\n",
        "\n",
        "parser = argparse.ArgumentParser()\n",
        "parser.add_argument(         '--gpu', type= int, default=     1, help='GPU ID')\n",
        "parser.add_argument(       '--n_fft', type= int, default=  1025, help='number of frequencies')\n",
        "parser.add_argument(    '--n_speaker', type= int, default=    3, help='number of speaker')\n",
        "parser.add_argument(    '--n_mic', type= int, default=    2, help='number of microphones')\n",
        "parser.add_argument(     '--n_basis', type= int, default=     8, help='number of basis')\n",
        "parser.add_argument( '--n_iteration', type= int, default=   100, help='number of iteration')\n",
        "parser.add_argument( '--n_inter', type= int, default=  200, help='number of intervals')\n",
        "parser.add_argument( '--alpha',   dest='alpha', type=float, default=1.8,  help='Gaussian case (alpha=2)')\n",
        "parser.add_argument( '--seed',   dest='seed', type=int, default=0,  help='random seed for experiments')\n",
        "parser.add_argument('--data', type=str, default='dev', help='available: dev or test')\n",
        "parser.add_argument('--nb_file', type=int, default=1, help='nb of file to separate')\n",
        "parser.add_argument('--n_Th', type=int, default=72, help='number of sphere sampling')\n",
        "parser.add_argument('--id_min', type=int, default=0, help='for chunk the file')\n",
        "parser.add_argument('--id_max', type=int, default=200, help='for chunk the file')\n",
        "parser.add_argument('--type', type=str, default=\"anechoic\", help='reverb or anechoic')\n",
        "parser.add_argument('--update_psi',   dest='update_psi', action='store_true',  help='updating Psi matrix or not ?')\n",
        "parser.add_argument('-f')\n",
        "args = parser.parse_args()"
      ],
      "metadata": {
        "id": "huKeymE08Zoh"
      },
      "execution_count": 5,
      "outputs": []
    },
    {
      "cell_type": "code",
      "source": [
        "!curl https://colab.chainer.org/install | sh -"
      ],
      "metadata": {
        "colab": {
          "base_uri": "https://localhost:8080/"
        },
        "id": "qqtnM6Nm8dm7",
        "outputId": "583bc0d9-e26b-4d5f-8504-53387b01a0d4"
      },
      "execution_count": 6,
      "outputs": [
        {
          "output_type": "stream",
          "name": "stdout",
          "text": [
            "  % Total    % Received % Xferd  Average Speed   Time    Time     Time  Current\n",
            "                                 Dload  Upload   Total   Spent    Left  Speed\n",
            "\r  0     0    0     0    0     0      0      0 --:--:-- --:--:-- --:--:--     0\r100  1580  100  1580    0     0  10000      0 --:--:-- --:--:-- --:--:-- 10000\n",
            "+ apt -y -q install cuda-libraries-dev-10-0\n",
            "Reading package lists...\n",
            "Building dependency tree...\n",
            "Reading state information...\n",
            "cuda-libraries-dev-10-0 is already the newest version (10.0.130-1).\n",
            "0 upgraded, 0 newly installed, 0 to remove and 41 not upgraded.\n",
            "+ pip install -q cupy-cuda100  chainer \n",
            "\u001b[K     |████████████████████████████████| 58.9 MB 1.3 MB/s \n",
            "\u001b[K     |████████████████████████████████| 1.0 MB 33.2 MB/s \n",
            "\u001b[?25h  Building wheel for chainer (setup.py) ... \u001b[?25l\u001b[?25hdone\n",
            "+ set +ex\n",
            "Installation succeeded!\n"
          ]
        }
      ]
    },
    {
      "cell_type": "markdown",
      "source": [
        "Main code"
      ],
      "metadata": {
        "id": "jOP-llri8htM"
      }
    },
    {
      "cell_type": "code",
      "source": [
        "\n",
        "for id_file in range(args.id_min, args.id_max):\n",
        "\n",
        "    if args.gpu <= 0:\n",
        "        import numpy as xp\n",
        "    else: \n",
        "        import cupy as xp\n",
        "        print(\"Use GPU \" + str(args.gpu))\n",
        "        #xp.cuda.Device(args.gpu).use()\n",
        "    \n",
        "    SAVE_PATH = os.path.join(\"./data/audio/out/\",\n",
        "                                 \"{}_{}/alpha={}/\".format(args.type,\n",
        "                                                          args.n_speaker,\n",
        "                                                          args.alpha))\n",
        "    \n",
        "    fileObject2 = open('./data/audio/out/mixture_nfft={}.pkl'.format(nfft), 'rb')\n",
        "    unpickler = pkl.Unpickler(fileObject2)\n",
        "    mix_spec = unpickler.load().astype(np.complex64)\n",
        "    fileObject2.close()\n",
        "    mix_spec = xp.asarray(mix_spec)\n",
        "    \n",
        "    if args.update_psi:\n",
        "        method_name = 'Alpha-Psi_MNMF'\n",
        "    else:\n",
        "        method_name = 'Alpha_MNMF'\n",
        "    \n",
        "    Separater = Alpha_MNMF(alpha=args.alpha,\n",
        "                                       n_basis=args.n_basis, n_source= args.n_speaker,\n",
        "                                       nb_Theta=args.n_Th, seed=args.seed,\n",
        "                                       xp=xp, acoustic_model='far',\n",
        "                                       update_psi=args.update_psi)\n",
        "    Separater.load_spectrogram(mix_spec)\n",
        "    Separater.file_id = id_file\n",
        "    Separater.solve(n_iteration=args.n_iteration, save_likelihood=False,\n",
        "                                save_parameter=False, save_wav=True,\n",
        "                                save_path=SAVE_PATH,\n",
        "                                interval_save_parameter=args.n_inter)"
      ],
      "metadata": {
        "colab": {
          "base_uri": "https://localhost:8080/",
          "height": 417
        },
        "id": "w8YZuVhk8Vqq",
        "outputId": "87f01e83-227c-47bb-8ecd-e4ff7ec77b48"
      },
      "execution_count": 7,
      "outputs": [
        {
          "output_type": "stream",
          "name": "stdout",
          "text": [
            "Use GPU 1\n"
          ]
        },
        {
          "output_type": "error",
          "ename": "TypeError",
          "evalue": "ignored",
          "traceback": [
            "\u001b[0;31m---------------------------------------------------------------------------\u001b[0m",
            "\u001b[0;31mTypeError\u001b[0m                                 Traceback (most recent call last)",
            "\u001b[0;32m<ipython-input-7-7dadf2eaec3f>\u001b[0m in \u001b[0;36m<module>\u001b[0;34m()\u001b[0m\n\u001b[1;32m     35\u001b[0m                                 \u001b[0msave_parameter\u001b[0m\u001b[0;34m=\u001b[0m\u001b[0;32mFalse\u001b[0m\u001b[0;34m,\u001b[0m \u001b[0msave_wav\u001b[0m\u001b[0;34m=\u001b[0m\u001b[0;32mTrue\u001b[0m\u001b[0;34m,\u001b[0m\u001b[0;34m\u001b[0m\u001b[0;34m\u001b[0m\u001b[0m\n\u001b[1;32m     36\u001b[0m                                 \u001b[0msave_path\u001b[0m\u001b[0;34m=\u001b[0m\u001b[0mSAVE_PATH\u001b[0m\u001b[0;34m,\u001b[0m\u001b[0;34m\u001b[0m\u001b[0;34m\u001b[0m\u001b[0m\n\u001b[0;32m---> 37\u001b[0;31m                                 interval_save_parameter=args.n_inter)\n\u001b[0m",
            "\u001b[0;32m/content/gdrive/MyDrive/alph_stable/jd_alpha_SpatialNMF.py\u001b[0m in \u001b[0;36msolve\u001b[0;34m(self, n_iteration, save_likelihood, save_parameter, save_wav, save_path, interval_save_parameter)\u001b[0m\n\u001b[1;32m    397\u001b[0m         \u001b[0mself\u001b[0m\u001b[0;34m.\u001b[0m\u001b[0mn_iteration\u001b[0m \u001b[0;34m=\u001b[0m \u001b[0mn_iteration\u001b[0m\u001b[0;34m\u001b[0m\u001b[0;34m\u001b[0m\u001b[0m\n\u001b[1;32m    398\u001b[0m         \u001b[0mself\u001b[0m\u001b[0;34m.\u001b[0m\u001b[0msave_path\u001b[0m \u001b[0;34m=\u001b[0m \u001b[0msave_path\u001b[0m\u001b[0;34m\u001b[0m\u001b[0;34m\u001b[0m\u001b[0m\n\u001b[0;32m--> 399\u001b[0;31m         \u001b[0mself\u001b[0m\u001b[0;34m.\u001b[0m\u001b[0minit_Theta\u001b[0m\u001b[0;34m(\u001b[0m\u001b[0;34m)\u001b[0m\u001b[0;34m\u001b[0m\u001b[0;34m\u001b[0m\u001b[0m\n\u001b[0m\u001b[1;32m    400\u001b[0m         \u001b[0mself\u001b[0m\u001b[0;34m.\u001b[0m\u001b[0minit_Psi\u001b[0m\u001b[0;34m(\u001b[0m\u001b[0;34m)\u001b[0m\u001b[0;34m\u001b[0m\u001b[0;34m\u001b[0m\u001b[0m\n\u001b[1;32m    401\u001b[0m         \u001b[0mself\u001b[0m\u001b[0;34m.\u001b[0m\u001b[0minit_SM\u001b[0m\u001b[0;34m(\u001b[0m\u001b[0;34m)\u001b[0m\u001b[0;34m\u001b[0m\u001b[0;34m\u001b[0m\u001b[0m\n",
            "\u001b[0;32m/content/gdrive/MyDrive/alph_stable/jd_alpha_SpatialNMF.py\u001b[0m in \u001b[0;36minit_Theta\u001b[0;34m(self)\u001b[0m\n\u001b[1;32m     85\u001b[0m         \u001b[0mfileObject2\u001b[0m\u001b[0;34m.\u001b[0m\u001b[0mclose\u001b[0m\u001b[0;34m(\u001b[0m\u001b[0;34m)\u001b[0m\u001b[0;34m\u001b[0m\u001b[0;34m\u001b[0m\u001b[0m\n\u001b[1;32m     86\u001b[0m         \u001b[0mself\u001b[0m\u001b[0;34m.\u001b[0m\u001b[0mTheta_FPM\u001b[0m \u001b[0;34m=\u001b[0m \u001b[0mTheta\u001b[0m\u001b[0;34m\u001b[0m\u001b[0;34m\u001b[0m\u001b[0m\n\u001b[0;32m---> 87\u001b[0;31m         \u001b[0mself\u001b[0m\u001b[0;34m.\u001b[0m\u001b[0mTheta_FPM\u001b[0m \u001b[0;34m/=\u001b[0m \u001b[0mself\u001b[0m\u001b[0;34m.\u001b[0m\u001b[0mxp\u001b[0m\u001b[0;34m.\u001b[0m\u001b[0mlinalg\u001b[0m\u001b[0;34m.\u001b[0m\u001b[0mnorm\u001b[0m\u001b[0;34m(\u001b[0m\u001b[0mself\u001b[0m\u001b[0;34m.\u001b[0m\u001b[0mTheta_FPM\u001b[0m\u001b[0;34m,\u001b[0m \u001b[0maxis\u001b[0m\u001b[0;34m=\u001b[0m\u001b[0;34m-\u001b[0m\u001b[0;36m1\u001b[0m\u001b[0;34m,\u001b[0m \u001b[0mkeepdims\u001b[0m\u001b[0;34m=\u001b[0m\u001b[0;32mTrue\u001b[0m\u001b[0;34m)\u001b[0m\u001b[0;34m\u001b[0m\u001b[0;34m\u001b[0m\u001b[0m\n\u001b[0m\u001b[1;32m     88\u001b[0m         \u001b[0;31m#f_model = h5py.File(self.THETA_PATH + 'Theta_P={}-nfft={}.hdf5'.format(self.P, self.nfft), 'r')\u001b[0m\u001b[0;34m\u001b[0m\u001b[0;34m\u001b[0m\u001b[0;34m\u001b[0m\u001b[0m\n\u001b[1;32m     89\u001b[0m         \u001b[0;31m#self.Theta_FPM = self.xp.asarray(f_model['Theta_FPM'])[..., :self.n_mic].astype(self.xp.complex64)\u001b[0m\u001b[0;34m\u001b[0m\u001b[0;34m\u001b[0m\u001b[0;34m\u001b[0m\u001b[0m\n",
            "\u001b[0;32m/usr/local/lib/python3.7/dist-packages/cupy/linalg/_norms.py\u001b[0m in \u001b[0;36mnorm\u001b[0;34m(x, ord, axis, keepdims)\u001b[0m\n\u001b[1;32m     93\u001b[0m             \u001b[0;31m# special case for speedup\u001b[0m\u001b[0;34m\u001b[0m\u001b[0;34m\u001b[0m\u001b[0;34m\u001b[0m\u001b[0m\n\u001b[1;32m     94\u001b[0m             \u001b[0;32mif\u001b[0m \u001b[0mx\u001b[0m\u001b[0;34m.\u001b[0m\u001b[0mdtype\u001b[0m\u001b[0;34m.\u001b[0m\u001b[0mkind\u001b[0m \u001b[0;34m==\u001b[0m \u001b[0;34m'c'\u001b[0m\u001b[0;34m:\u001b[0m\u001b[0;34m\u001b[0m\u001b[0;34m\u001b[0m\u001b[0m\n\u001b[0;32m---> 95\u001b[0;31m                 \u001b[0;32mreturn\u001b[0m \u001b[0m_norm_ord2_complex\u001b[0m\u001b[0;34m(\u001b[0m\u001b[0mx\u001b[0m\u001b[0;34m,\u001b[0m \u001b[0maxis\u001b[0m\u001b[0;34m=\u001b[0m\u001b[0maxis\u001b[0m\u001b[0;34m,\u001b[0m \u001b[0mkeepdims\u001b[0m\u001b[0;34m=\u001b[0m\u001b[0mkeepdims\u001b[0m\u001b[0;34m)\u001b[0m\u001b[0;34m\u001b[0m\u001b[0;34m\u001b[0m\u001b[0m\n\u001b[0m\u001b[1;32m     96\u001b[0m             \u001b[0;32mreturn\u001b[0m \u001b[0m_norm_ord2\u001b[0m\u001b[0;34m(\u001b[0m\u001b[0mx\u001b[0m\u001b[0;34m,\u001b[0m \u001b[0maxis\u001b[0m\u001b[0;34m=\u001b[0m\u001b[0maxis\u001b[0m\u001b[0;34m,\u001b[0m \u001b[0mkeepdims\u001b[0m\u001b[0;34m=\u001b[0m\u001b[0mkeepdims\u001b[0m\u001b[0;34m)\u001b[0m\u001b[0;34m\u001b[0m\u001b[0;34m\u001b[0m\u001b[0m\n\u001b[1;32m     97\u001b[0m         \u001b[0;32melse\u001b[0m\u001b[0;34m:\u001b[0m\u001b[0;34m\u001b[0m\u001b[0;34m\u001b[0m\u001b[0m\n",
            "\u001b[0;32mcupy/_core/_reduction.pyx\u001b[0m in \u001b[0;36mcupy._core._reduction._SimpleReductionKernel.__call__\u001b[0;34m()\u001b[0m\n",
            "\u001b[0;31mTypeError\u001b[0m: Argument 'a' has incorrect type (expected <class 'cupy._core.core.ndarray'>, got <class 'numpy.ndarray'>)"
          ]
        }
      ]
    },
    {
      "cell_type": "code",
      "source": [
        ""
      ],
      "metadata": {
        "id": "YhUjDAfJcPJR"
      },
      "execution_count": null,
      "outputs": []
    }
  ]
}